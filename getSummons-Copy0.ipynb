{
 "metadata": {
  "name": ""
 },
 "nbformat": 3,
 "nbformat_minor": 0,
 "worksheets": [
  {
   "cells": [
    {
     "cell_type": "code",
     "collapsed": true,
     "input": [
      "import requests as rq\n",
      "import zipfile as zp\n",
      "import StringIO\n",
      "import os\n",
      "import pandas as pd"
     ],
     "language": "python",
     "metadata": {},
     "outputs": [],
     "prompt_number": 6
    },
    {
     "cell_type": "code",
     "collapsed": true,
     "input": [
      "def makeTime():\n",
      "    \"\"\"Make all the links to the data we want. Data doesn't start until 2011_08\"\"\"\n",
      "    year = [\"2013\",\"2012\",\"2011\"]\n",
      "    month = [\"01\",\"02\",\"03\",\"04\",\"05\",\"06\",\"07\",\"08\",\"09\",\"10\",\"11\",\"12\"]\n",
      "    container = []\n",
      "    for y in year:\n",
      "        for m in month:\n",
      "            if (y != \"2011\") or (m not in [\"01\",\"02\",\"03\",\"04\",\"05\",\"06\",\"07\"]):\n",
      "                container.append(y+\"_\"+m)\n",
      "    return container"
     ],
     "language": "python",
     "metadata": {},
     "outputs": [],
     "prompt_number": 7
    },
    {
     "cell_type": "code",
     "collapsed": true,
     "input": [
      "dates = makeTime()"
     ],
     "language": "python",
     "metadata": {},
     "outputs": [],
     "prompt_number": 8
    },
    {
     "cell_type": "code",
     "collapsed": true,
     "input": [
      "for d in dates:\n",
      "    r = rq.get(\"http://www.nyc.gov/html/nypd/downloads/zip/traffic_data/{}_sum.zip\".format(d))\n",
      "    z = zp.ZipFile(StringIO.StringIO(r.content))\n",
      "    z.extract(\"citysum.xlsx\", path=\"citysum/\")\n",
      "    os.rename(\"citysum/citysum.xlsx\",\"citysum/citysum{}.xlsx\".format(d))"
     ],
     "language": "python",
     "metadata": {},
     "outputs": [],
     "prompt_number": 9
    },
    {
     "cell_type": "code",
     "collapsed": false,
     "input": [
      "if not os.path.isfile(\"citySummons.csv\"):\n",
      "    for d in dates:\n",
      "        r = rq.get(\"http://www.nyc.gov/html/nypd/downloads/zip/traffic_data/{}_sum.zip\".format(d))\n",
      "        z = zp.ZipFile(StringIO.StringIO(r.content))\n",
      "        z.extract(\"citysum.xlsx\", path=\"citysum/\")\n",
      "        os.rename(\"citysum/citysum.xlsx\",\"citysum/citysum{}.xlsx\".format(d))\n",
      "    with open('citySummons.csv','wb') as f:\n",
      "    for d in dates:\n",
      "        raw = pd.read_excel(\"citysum/citysum{}.xlsx\".format(d),0, skiprows=2, index_col=None, names=[\"type\",\"mtd\",\"ytd\"])\n",
      "        backSafely = {'type': raw.ix[0]['type'].split('\\n')[1], 'mtd': raw.ix[0]['mtd'].split('\\n')[1], 'ytd':raw.ix[1]['ytd']}\n",
      "        otherMovers = {'type': raw.ix[34]['type'].split('\\n')[0], 'mtd': raw.ix[34]['mtd'].split('\\n')[0], 'ytd':raw.ix[34]['ytd']}\n",
      "        totalMovers = {'type': raw.ix[34]['type'].split('\\n')[1], 'mtd': raw.ix[34]['mtd'].split('\\n')[1], 'ytd':raw.ix[35]['ytd']}\n",
      "        df = raw[2:34]\n",
      "        df = df.append([backSafely, otherMovers, totalMovers], ignore_index=True)\n",
      "        df['date'] = d\n",
      "        df['year'] = df['date'].apply(lambda x: x.split('_')[0])\n",
      "        df['month'] = df['date'].apply(lambda x: x.split('_')[1])\n",
      "        df.to_csv(f, header=False, index=False)"
     ],
     "language": "python",
     "metadata": {},
     "outputs": []
    },
    {
     "cell_type": "code",
     "collapsed": true,
     "input": [
      "raw = pd.read_excel(\"citysum/citysum{}.xlsx\".format(dates[0]),0, skiprows=2, index_col=None, names=[\"type\",\"mtd\",\"ytd\"])"
     ],
     "language": "python",
     "metadata": {},
     "outputs": [
      {
       "ename": "XLRDError",
       "evalue": "No sheet named <0>",
       "output_type": "pyerr",
       "traceback": [
        "\u001b[1;31m---------------------------------------------------------------------------\u001b[0m\n\u001b[1;31mXLRDError\u001b[0m                                 Traceback (most recent call last)",
        "\u001b[1;32m<ipython-input-5-66ab758c3c48>\u001b[0m in \u001b[0;36m<module>\u001b[1;34m()\u001b[0m\n\u001b[1;32m----> 1\u001b[1;33m \u001b[0mraw\u001b[0m \u001b[1;33m=\u001b[0m \u001b[0mpd\u001b[0m\u001b[1;33m.\u001b[0m\u001b[0mread_excel\u001b[0m\u001b[1;33m(\u001b[0m\u001b[1;34m\"citysum/citysum{}.xlsx\"\u001b[0m\u001b[1;33m.\u001b[0m\u001b[0mformat\u001b[0m\u001b[1;33m(\u001b[0m\u001b[0mdates\u001b[0m\u001b[1;33m[\u001b[0m\u001b[1;36m0\u001b[0m\u001b[1;33m]\u001b[0m\u001b[1;33m)\u001b[0m\u001b[1;33m,\u001b[0m\u001b[1;36m0\u001b[0m\u001b[1;33m,\u001b[0m \u001b[0mskiprows\u001b[0m\u001b[1;33m=\u001b[0m\u001b[1;36m2\u001b[0m\u001b[1;33m,\u001b[0m \u001b[0mindex_col\u001b[0m\u001b[1;33m=\u001b[0m\u001b[0mNone\u001b[0m\u001b[1;33m,\u001b[0m \u001b[0mnames\u001b[0m\u001b[1;33m=\u001b[0m\u001b[1;33m[\u001b[0m\u001b[1;34m\"type\"\u001b[0m\u001b[1;33m,\u001b[0m\u001b[1;34m\"mtd\"\u001b[0m\u001b[1;33m,\u001b[0m\u001b[1;34m\"ytd\"\u001b[0m\u001b[1;33m]\u001b[0m\u001b[1;33m)\u001b[0m\u001b[1;33m\u001b[0m\u001b[0m\n\u001b[0m",
        "\u001b[1;32mc:\\Python27\\lib\\site-packages\\pandas\\io\\excel.pyc\u001b[0m in \u001b[0;36mread_excel\u001b[1;34m(path_or_buf, sheetname, kind, **kwds)\u001b[0m\n\u001b[0;32m     50\u001b[0m     \"\"\"\n\u001b[0;32m     51\u001b[0m     return ExcelFile(path_or_buf,kind=kind).parse(sheetname=sheetname,\n\u001b[1;32m---> 52\u001b[1;33m                                                   kind=kind, **kwds)\n\u001b[0m\u001b[0;32m     53\u001b[0m \u001b[1;33m\u001b[0m\u001b[0m\n\u001b[0;32m     54\u001b[0m \u001b[1;32mclass\u001b[0m \u001b[0mExcelFile\u001b[0m\u001b[1;33m(\u001b[0m\u001b[0mobject\u001b[0m\u001b[1;33m)\u001b[0m\u001b[1;33m:\u001b[0m\u001b[1;33m\u001b[0m\u001b[0m\n",
        "\u001b[1;32mc:\\Python27\\lib\\site-packages\\pandas\\io\\excel.pyc\u001b[0m in \u001b[0;36mparse\u001b[1;34m(self, sheetname, header, skiprows, skip_footer, index_col, parse_cols, parse_dates, date_parser, na_values, thousands, chunksize, **kwds)\u001b[0m\n\u001b[0;32m    138\u001b[0m                                      \u001b[0mchunksize\u001b[0m\u001b[1;33m=\u001b[0m\u001b[0mchunksize\u001b[0m\u001b[1;33m,\u001b[0m\u001b[1;33m\u001b[0m\u001b[0m\n\u001b[0;32m    139\u001b[0m                                      \u001b[0mskip_footer\u001b[0m\u001b[1;33m=\u001b[0m\u001b[0mskip_footer\u001b[0m\u001b[1;33m,\u001b[0m\u001b[1;33m\u001b[0m\u001b[0m\n\u001b[1;32m--> 140\u001b[1;33m                                      **kwds)\n\u001b[0m\u001b[0;32m    141\u001b[0m \u001b[1;33m\u001b[0m\u001b[0m\n\u001b[0;32m    142\u001b[0m     \u001b[1;32mdef\u001b[0m \u001b[0m_should_parse\u001b[0m\u001b[1;33m(\u001b[0m\u001b[0mself\u001b[0m\u001b[1;33m,\u001b[0m \u001b[0mi\u001b[0m\u001b[1;33m,\u001b[0m \u001b[0mparse_cols\u001b[0m\u001b[1;33m)\u001b[0m\u001b[1;33m:\u001b[0m\u001b[1;33m\u001b[0m\u001b[0m\n",
        "\u001b[1;32mc:\\Python27\\lib\\site-packages\\pandas\\io\\excel.pyc\u001b[0m in \u001b[0;36m_parse_excel\u001b[1;34m(self, sheetname, header, skiprows, skip_footer, index_col, has_index_names, parse_cols, parse_dates, date_parser, na_values, thousands, chunksize, **kwds)\u001b[0m\n\u001b[0;32m    181\u001b[0m \u001b[1;33m\u001b[0m\u001b[0m\n\u001b[0;32m    182\u001b[0m         \u001b[0mdatemode\u001b[0m \u001b[1;33m=\u001b[0m \u001b[0mself\u001b[0m\u001b[1;33m.\u001b[0m\u001b[0mbook\u001b[0m\u001b[1;33m.\u001b[0m\u001b[0mdatemode\u001b[0m\u001b[1;33m\u001b[0m\u001b[0m\n\u001b[1;32m--> 183\u001b[1;33m         \u001b[0msheet\u001b[0m \u001b[1;33m=\u001b[0m \u001b[0mself\u001b[0m\u001b[1;33m.\u001b[0m\u001b[0mbook\u001b[0m\u001b[1;33m.\u001b[0m\u001b[0msheet_by_name\u001b[0m\u001b[1;33m(\u001b[0m\u001b[0msheetname\u001b[0m\u001b[1;33m)\u001b[0m\u001b[1;33m\u001b[0m\u001b[0m\n\u001b[0m\u001b[0;32m    184\u001b[0m \u001b[1;33m\u001b[0m\u001b[0m\n\u001b[0;32m    185\u001b[0m         \u001b[0mdata\u001b[0m \u001b[1;33m=\u001b[0m \u001b[1;33m[\u001b[0m\u001b[1;33m]\u001b[0m\u001b[1;33m\u001b[0m\u001b[0m\n",
        "\u001b[1;32mc:\\Python27\\lib\\site-packages\\xlrd\\book.pyc\u001b[0m in \u001b[0;36msheet_by_name\u001b[1;34m(self, sheet_name)\u001b[0m\n\u001b[0;32m    439\u001b[0m             \u001b[0msheetx\u001b[0m \u001b[1;33m=\u001b[0m \u001b[0mself\u001b[0m\u001b[1;33m.\u001b[0m\u001b[0m_sheet_names\u001b[0m\u001b[1;33m.\u001b[0m\u001b[0mindex\u001b[0m\u001b[1;33m(\u001b[0m\u001b[0msheet_name\u001b[0m\u001b[1;33m)\u001b[0m\u001b[1;33m\u001b[0m\u001b[0m\n\u001b[0;32m    440\u001b[0m         \u001b[1;32mexcept\u001b[0m \u001b[0mValueError\u001b[0m\u001b[1;33m:\u001b[0m\u001b[1;33m\u001b[0m\u001b[0m\n\u001b[1;32m--> 441\u001b[1;33m             \u001b[1;32mraise\u001b[0m \u001b[0mXLRDError\u001b[0m\u001b[1;33m(\u001b[0m\u001b[1;34m'No sheet named <%r>'\u001b[0m \u001b[1;33m%\u001b[0m \u001b[0msheet_name\u001b[0m\u001b[1;33m)\u001b[0m\u001b[1;33m\u001b[0m\u001b[0m\n\u001b[0m\u001b[0;32m    442\u001b[0m         \u001b[1;32mreturn\u001b[0m \u001b[0mself\u001b[0m\u001b[1;33m.\u001b[0m\u001b[0msheet_by_index\u001b[0m\u001b[1;33m(\u001b[0m\u001b[0msheetx\u001b[0m\u001b[1;33m)\u001b[0m\u001b[1;33m\u001b[0m\u001b[0m\n\u001b[0;32m    443\u001b[0m \u001b[1;33m\u001b[0m\u001b[0m\n",
        "\u001b[1;31mXLRDError\u001b[0m: No sheet named <0>"
       ]
      }
     ],
     "prompt_number": 5
    },
    {
     "cell_type": "code",
     "collapsed": false,
     "input": [],
     "language": "python",
     "metadata": {},
     "outputs": []
    }
   ],
   "metadata": {}
  }
 ]
}