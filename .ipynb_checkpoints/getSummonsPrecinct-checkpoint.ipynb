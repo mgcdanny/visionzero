{
 "metadata": {
  "name": ""
 },
 "nbformat": 3,
 "nbformat_minor": 0,
 "worksheets": [
  {
   "cells": [
    {
     "cell_type": "code",
     "collapsed": true,
     "input": [
      "import requests as rq\n",
      "import zipfile as zp\n",
      "import StringIO\n",
      "import os\n",
      "import pandas as pd"
     ],
     "language": "python",
     "metadata": {},
     "outputs": [],
     "prompt_number": 5
    },
    {
     "cell_type": "code",
     "collapsed": true,
     "input": [
      "def makeTime():\n",
      "    \"\"\"Make all the links to the data we want. Data doesn't start until 2011_08\"\"\"\n",
      "    year = [\"2013\",\"2012\",\"2011\"]\n",
      "    month = [\"01\",\"02\",\"03\",\"04\",\"05\",\"06\",\"07\",\"08\",\"09\",\"10\",\"11\",\"12\"]\n",
      "    container = []\n",
      "    for y in year:\n",
      "        for m in month:\n",
      "            if (y != \"2011\") or (m not in [\"01\",\"02\",\"03\",\"04\",\"05\",\"06\",\"07\"]):\n",
      "                container.append(y+\"_\"+m)\n",
      "    return container"
     ],
     "language": "python",
     "metadata": {},
     "outputs": [],
     "prompt_number": 6
    },
    {
     "cell_type": "code",
     "collapsed": true,
     "input": [
      "dates = makeTime()"
     ],
     "language": "python",
     "metadata": {},
     "outputs": [],
     "prompt_number": 7
    },
    {
     "cell_type": "code",
     "collapsed": true,
     "input": [
      "for d in dates:\n",
      "    r = rq.get(\"http://www.nyc.gov/html/nypd/downloads/zip/traffic_data/{}_sum.zip\".format(d))\n",
      "    z = zp.ZipFile(StringIO.StringIO(r.content))\n",
      "    z.extractall(path=\"citysum/{}\".format(d))\n",
      "    #os.rename(\"citysum/citysum.xlsx\",\"citysum/citysum{}.xlsx\".format(d))"
     ],
     "language": "python",
     "metadata": {},
     "outputs": [],
     "prompt_number": 11
    },
    {
     "cell_type": "code",
     "collapsed": false,
     "input": [
      "import glob"
     ],
     "language": "python",
     "metadata": {},
     "outputs": [],
     "prompt_number": 12
    },
    {
     "cell_type": "code",
     "collapsed": false,
     "input": [
      "container = []\n",
      "for f in glob.glob(\"citysum/*/*.xlsx\"):\n",
      "    meta = f.split('\\\\')\n",
      "    date = meta[1]\n",
      "    category = meta[2].split('sum')[0]\n",
      "    container.append((f,date,category))"
     ],
     "language": "python",
     "metadata": {},
     "outputs": [],
     "prompt_number": 38
    },
    {
     "cell_type": "raw",
     "metadata": {},
     "source": [
      "pd.read_excel(container[0][0],\"Table 1\")"
     ]
    },
    {
     "cell_type": "code",
     "collapsed": false,
     "input": [
      "with open('allSummons.csv','wb') as f:\n",
      "    for d in container:\n",
      "        raw = pd.read_excel(d[0],\"Table 1\", skiprows=2, index_col=None, names=[\"type\",\"mtd\",\"ytd\"])\n",
      "        backSafely = {'type': raw.ix[0]['type'].split('\\n')[1], 'mtd': raw.ix[0]['mtd'].split('\\n')[1], 'ytd':raw.ix[1]['ytd']}\n",
      "        otherMovers = {'type': raw.ix[34]['type'].split('\\n')[0], 'mtd': raw.ix[34]['mtd'].split('\\n')[0], 'ytd':raw.ix[34]['ytd']}\n",
      "        totalMovers = {'type': raw.ix[34]['type'].split('\\n')[1], 'mtd': raw.ix[34]['mtd'].split('\\n')[1], 'ytd':raw.ix[35]['ytd']}\n",
      "        df = raw[2:34]\n",
      "        df = df.append([backSafely, otherMovers, totalMovers], ignore_index=True)\n",
      "        df['location'] = d[2]\n",
      "        df['date'] = d[1]\n",
      "        df['year'] = df['date'].apply(lambda x: x.split('_')[0])\n",
      "        df['month'] = df['date'].apply(lambda x: x.split('_')[1])\n",
      "        df.to_csv(f, header=False, index=False)"
     ],
     "language": "python",
     "metadata": {},
     "outputs": [],
     "prompt_number": 53
    },
    {
     "cell_type": "code",
     "collapsed": true,
     "input": [
      "raw = pd.read_csv(\"allSummons.csv\", index_col=None, names=[\"type\",\"mtd\",\"ytd\",\"location\",\"date\",\"year\",\"month\"])"
     ],
     "language": "python",
     "metadata": {},
     "outputs": [],
     "prompt_number": 69
    },
    {
     "cell_type": "code",
     "collapsed": false,
     "input": [
      "copMeta = pd.read_csv()"
     ],
     "language": "python",
     "metadata": {},
     "outputs": []
    },
    {
     "cell_type": "code",
     "collapsed": false,
     "input": [
      "raw.to_csv(\"allSummons_Headers.csv\", index=False)"
     ],
     "language": "python",
     "metadata": {},
     "outputs": [],
     "prompt_number": 68
    },
    {
     "cell_type": "code",
     "collapsed": false,
     "input": [],
     "language": "python",
     "metadata": {},
     "outputs": []
    }
   ],
   "metadata": {}
  }
 ]
}