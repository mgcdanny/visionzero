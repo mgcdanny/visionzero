{
 "metadata": {
  "name": ""
 },
 "nbformat": 3,
 "nbformat_minor": 0,
 "worksheets": [
  {
   "cells": [
    {
     "cell_type": "code",
     "collapsed": false,
     "input": [
      "import requests as rq\n",
      "import zipfile as zp\n",
      "import StringIO\n",
      "import os\n",
      "import pandas as pd\n",
      "import re\n",
      "import numpy as np\n",
      "import glob"
     ],
     "language": "python",
     "metadata": {},
     "outputs": [],
     "prompt_number": 98
    },
    {
     "cell_type": "code",
     "collapsed": true,
     "input": [
      "def makeTime():\n",
      "    \"\"\"Make all the links to the data we want. Data doesn't start until 2011_08\"\"\"\n",
      "    year = [\"2013\",\"2012\",\"2011\"]\n",
      "    month = [\"01\",\"02\",\"03\",\"04\",\"05\",\"06\",\"07\",\"08\",\"09\",\"10\",\"11\",\"12\"]\n",
      "    container = []\n",
      "    for y in year:\n",
      "        for m in month:\n",
      "            if (y != \"2011\") or (m not in [\"01\",\"02\",\"03\",\"04\",\"05\",\"06\",\"07\"]):\n",
      "                container.append(y+\"_\"+m)\n",
      "    return container"
     ],
     "language": "python",
     "metadata": {},
     "outputs": [],
     "prompt_number": 99
    },
    {
     "cell_type": "code",
     "collapsed": false,
     "input": [
      "def getPrecinct(v):\n",
      "    if isinstance(v, unicode):\n",
      "        if re.match(r\".*Precinct\", v):\n",
      "            return v\n",
      "    else:\n",
      "        return None"
     ],
     "language": "python",
     "metadata": {},
     "outputs": [],
     "prompt_number": 100
    },
    {
     "cell_type": "code",
     "collapsed": false,
     "input": [
      "def countCleaner(df, pain=None):\n",
      "    container = []\n",
      "    for index, row in df.iterrows():\n",
      "        temp = {'index': index}\n",
      "        if isinstance(row[pain], unicode):\n",
      "            count = row[pain].split('\\n')\n",
      "            if re.match(r'.*\\n.*', row['category']):\n",
      "                categories = row['category'].split('\\n')\n",
      "                categories = [c+\"_\"+pain for c in categories]\n",
      "                temp.update(dict(zip(categories, count)))\n",
      "            else:\n",
      "                categories = row['category'].split(' ')\n",
      "                categories = [c+\"_\"+pain for c in categories]\n",
      "                temp.update(dict(zip(categories, count)))\n",
      "        else:\n",
      "            temp[row['category']+\"_\"+pain] = row[pain]\n",
      "        container.append(temp)\n",
      "    return container"
     ],
     "language": "python",
     "metadata": {},
     "outputs": [],
     "prompt_number": 202
    },
    {
     "cell_type": "code",
     "collapsed": false,
     "input": [
      "def fileListMaker(globPath=os.path.join(\"cityacc\",\"*\",\"*.xlsx\")):\n",
      "    container = []\n",
      "    for f in glob.glob(globPath):\n",
      "        meta = os.path.splitext(f)[0]\n",
      "        category = os.path.split(meta)[1]\n",
      "        date = os.path.split(os.path.split(meta)[0])[1]\n",
      "        container.append((f,date,category))\n",
      "    return container"
     ],
     "language": "python",
     "metadata": {},
     "outputs": [],
     "prompt_number": 95
    },
    {
     "cell_type": "code",
     "collapsed": true,
     "input": [
      "dates = makeTime()"
     ],
     "language": "python",
     "metadata": {},
     "outputs": [],
     "prompt_number": 102
    },
    {
     "cell_type": "code",
     "collapsed": true,
     "input": [
      "for d in dates:\n",
      "    try:\n",
      "        r = rq.get(\"http://www.nyc.gov/html/nypd/downloads/zip/traffic_data/{}_acc.zip\".format(d))\n",
      "        z = zp.ZipFile(StringIO.StringIO(r.content))\n",
      "        z.extractall(path=os.path.join(\"cityacc\",d))\n",
      "    except:\n",
      "        print(\"this date does not have a file\"+str(d))"
     ],
     "language": "python",
     "metadata": {},
     "outputs": [
      {
       "output_type": "stream",
       "stream": "stdout",
       "text": [
        "this date does not have a file2013_12\n"
       ]
      }
     ],
     "prompt_number": 103
    },
    {
     "cell_type": "code",
     "collapsed": false,
     "input": [
      "fileList = fileListMaker()\n",
      "isFirst = True\n",
      "with open('allAccidents.csv','wb') as f:\n",
      "    for d in fileList:\n",
      "        if d[2] != 'cityacc':\n",
      "            try:\n",
      "                df = pd.read_excel(d[0], \"Table 1\", index_col=None, skiprows=2, names=[\"intersection\", \"acc_count\", \"deleteMe\", \"person_involved_count\", \"acc_w_injury_count\", \"category\", \"injured\", \"killed\", \"vehicle_types\", \"factors\"])\n",
      "                df = df.drop('deleteMe', axis=1)\n",
      "            except:\n",
      "                #staten island sometimes has one fewer header\n",
      "                print(\"file has one fewer column but still being process: \", d)\n",
      "                df = pd.read_excel(d[0], \"Table 1\", index_col=None, skiprows=2, names=[\"intersection\", \"acc_count\", \"person_involved_count\", \"acc_w_injury_count\", \"category\", \"injured\", \"killed\", \"vehicle_types\", \"factors\"])\n",
      "            df['precinct'] = df['intersection'].map(lambda x: getPrecinct(x))\n",
      "            df['precinct'] = df['precinct'].fillna(method='pad')\n",
      "            df = df.dropna(how='all', subset=['acc_count','person_involved_count','acc_w_injury_count','category','injured','killed','vehicle_type','factors'])\n",
      "            df = df.dropna(how='all', subset=['acc_count'])\n",
      "            df = df[df.intersection != 'Intersection   Address']\n",
      "            df = df.reset_index(drop=True)\n",
      "            count_killed = countCleaner(df, 'killed')\n",
      "            count_injured = countCleaner(df, 'injured')\n",
      "            killedDf = pd.DataFrame(data=count_killed).set_index('index')\n",
      "            injuredDf = pd.DataFrame(data=count_injured).set_index('index')\n",
      "            df = df.join(killedDf)\n",
      "            df = df.join(injuredDf)\n",
      "            df['location'] = d[2]\n",
      "            df['date'] = d[1]\n",
      "            #df['year'] = df['date'].apply(lambda x: x.split('_')[0])\n",
      "            #df['month'] = df['date'].apply(lambda x: x.split('_')[1])\n",
      "            #df = df.drop([\"category\", \"injured\", \"killed\"], axis=1)\n",
      "            if isFirst:\n",
      "                df.to_csv(f, header=True, index=False, encoding='utf8')\n",
      "                isFirst = False\n",
      "            else:\n",
      "                df.to_csv(f, header=False, index=False, encoding='utf8')"
     ],
     "language": "python",
     "metadata": {},
     "outputs": [
      {
       "output_type": "stream",
       "stream": "stdout",
       "text": [
        "('file has one fewer column but still being process: ', ('cityacc\\\\2011_09\\\\siacc.xlsx', '2011_09', 'siacc'))\n",
        "('file has one fewer column but still being process: ', ('cityacc\\\\2011_10\\\\siacc.xlsx', '2011_10', 'siacc'))"
       ]
      },
      {
       "output_type": "stream",
       "stream": "stdout",
       "text": [
        "\n",
        "('file has one fewer column but still being process: ', ('cityacc\\\\2011_11\\\\siacc.xlsx', '2011_11', 'siacc'))"
       ]
      },
      {
       "output_type": "stream",
       "stream": "stdout",
       "text": [
        "\n",
        "('file has one fewer column but still being process: ', ('cityacc\\\\2011_12\\\\siacc.xlsx', '2011_12', 'siacc'))"
       ]
      },
      {
       "output_type": "stream",
       "stream": "stdout",
       "text": [
        "\n",
        "('file has one fewer column but still being process: ', ('cityacc\\\\2012_02\\\\siacc.xlsx', '2012_02', 'siacc'))"
       ]
      },
      {
       "output_type": "stream",
       "stream": "stdout",
       "text": [
        "\n",
        "('file has one fewer column but still being process: ', ('cityacc\\\\2012_03\\\\siacc.xlsx', '2012_03', 'siacc'))"
       ]
      },
      {
       "output_type": "stream",
       "stream": "stdout",
       "text": [
        "\n",
        "('file has one fewer column but still being process: ', ('cityacc\\\\2012_05\\\\siacc.xlsx', '2012_05', 'siacc'))"
       ]
      },
      {
       "output_type": "stream",
       "stream": "stdout",
       "text": [
        "\n",
        "('file has one fewer column but still being process: ', ('cityacc\\\\2012_06\\\\siacc.xlsx', '2012_06', 'siacc'))"
       ]
      },
      {
       "output_type": "stream",
       "stream": "stdout",
       "text": [
        "\n",
        "('file has one fewer column but still being process: ', ('cityacc\\\\2012_07\\\\siacc.xlsx', '2012_07', 'siacc'))"
       ]
      },
      {
       "output_type": "stream",
       "stream": "stdout",
       "text": [
        "\n",
        "('file has one fewer column but still being process: ', ('cityacc\\\\2012_09\\\\siacc.xlsx', '2012_09', 'siacc'))"
       ]
      },
      {
       "output_type": "stream",
       "stream": "stdout",
       "text": [
        "\n",
        "('file has one fewer column but still being process: ', ('cityacc\\\\2013_07\\\\siacc.xlsx', '2013_07', 'siacc'))"
       ]
      },
      {
       "output_type": "stream",
       "stream": "stdout",
       "text": [
        "\n",
        "('file has one fewer column but still being process: ', ('cityacc\\\\2013_09\\\\siacc.xlsx', '2013_09', 'siacc'))"
       ]
      },
      {
       "output_type": "stream",
       "stream": "stdout",
       "text": [
        "\n"
       ]
      }
     ],
     "prompt_number": 232
    },
    {
     "cell_type": "code",
     "collapsed": false,
     "input": [],
     "language": "python",
     "metadata": {},
     "outputs": []
    }
   ],
   "metadata": {}
  }
 ]
}