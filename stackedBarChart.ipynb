{
 "metadata": {
  "name": "stackedBarChart"
 }, 
 "nbformat": 2, 
 "worksheets": [
  {
   "cells": [
    {
     "cell_type": "code", 
     "collapsed": true, 
     "input": [
      "import pandas as pd"
     ], 
     "language": "python", 
     "outputs": [], 
     "prompt_number": 14
    }, 
    {
     "cell_type": "code", 
     "collapsed": true, 
     "input": [
      "df = pd.read_csv(\"citySummons.csv\", names=[\"type\",\"mtd\",\"ytd\",\"date\"])", 
      "chart = df[[\"date\",\"type\",\"mtd\"]].sort(['date', 'type'])"
     ], 
     "language": "python", 
     "outputs": [], 
     "prompt_number": 15
    }, 
    {
     "cell_type": "code", 
     "collapsed": false, 
     "input": [
      "chart = chart[chart.type != \"TOTAL Movers\"]"
     ], 
     "language": "python", 
     "outputs": [], 
     "prompt_number": 16
    }, 
    {
     "cell_type": "code", 
     "collapsed": true, 
     "input": [
      "gchart = chart.groupby('date')"
     ], 
     "language": "python", 
     "outputs": [], 
     "prompt_number": 18
    }, 
    {
     "cell_type": "code", 
     "collapsed": true, 
     "input": [
      "rows = []", 
      "for name, group in gchart:", 
      "    tdict = {\"c\":[{\"v\": name}]}", 
      "    for idx, row in group.iterrows():", 
      "        tdict[\"c\"].append({\"v\":row['mtd']})", 
      "    rows.append(tdict)", 
      "    "
     ], 
     "language": "python", 
     "outputs": [], 
     "prompt_number": 19
    }, 
    {
     "cell_type": "code", 
     "collapsed": true, 
     "input": [
      "cols = [{\"id\": \"date\", \"label\":\"Date\", \"type\":\"string\"}]", 
      "for row in gchart.get_group('2012_02')['type']:", 
      "    cols.append({\"id\":row, \"label\":row, \"type\":\"number\"})"
     ], 
     "language": "python", 
     "outputs": [], 
     "prompt_number": 20
    }, 
    {
     "cell_type": "code", 
     "collapsed": true, 
     "input": [
      "chart = {", 
      "  \"type\": \"AreaChart\",", 
      "  \"cssStyle\": \"height:900px; width:1600px;\",", 
      "  \"data\": { \"cols\": [], \"rows\":[]},", 
      "  \"options\": {", 
      "    \"title\": \"Sales per month\",", 
      "    \"isStacked\": \"true\",", 
      "    \"fill\": 20,", 
      "    \"displayExactValues\": True,", 
      "    \"vAxis\": {", 
      "      \"title\": \"Sales unit\",", 
      "      \"gridlines\": {\"count\": 6}", 
      "    },", 
      "    \"hAxis\": {\"title\": \"Date\"}", 
      "    },", 
      "  \"formatters\": {},", 
      "  \"displayed\": True", 
      "}"
     ], 
     "language": "python", 
     "outputs": [], 
     "prompt_number": 30
    }, 
    {
     "cell_type": "code", 
     "collapsed": true, 
     "input": [
      "chart['data']['cols'] = cols", 
      "chart['data']['rows'] = rows"
     ], 
     "language": "python", 
     "outputs": [], 
     "prompt_number": 31
    }, 
    {
     "cell_type": "code", 
     "collapsed": true, 
     "input": [
      "import json"
     ], 
     "language": "python", 
     "outputs": [], 
     "prompt_number": 32
    }, 
    {
     "cell_type": "code", 
     "collapsed": true, 
     "input": [
      "json.dump(chart,open('/var/www/visionzero/appFolder/static/summons.json','wb'))"
     ], 
     "language": "python", 
     "outputs": [], 
     "prompt_number": 33
    }, 
    {
     "cell_type": "code", 
     "collapsed": true, 
     "input": [], 
     "language": "python", 
     "outputs": []
    }
   ]
  }
 ]
}