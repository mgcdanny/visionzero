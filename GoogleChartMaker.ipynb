{
 "metadata": {
  "name": ""
 },
 "nbformat": 3,
 "nbformat_minor": 0,
 "worksheets": [
  {
   "cells": [
    {
     "cell_type": "code",
     "collapsed": true,
     "input": [
      "import pandas as pd"
     ],
     "language": "python",
     "metadata": {},
     "outputs": [],
     "prompt_number": 14
    },
    {
     "cell_type": "code",
     "collapsed": true,
     "input": [
      "df = pd.read_csv(\"citySummons.csv\", names=[\"type\",\"mtd\",\"ytd\",\"date\"])\n",
      "chart = df[[\"date\",\"type\",\"mtd\"]].sort(['date', 'type'])"
     ],
     "language": "python",
     "metadata": {},
     "outputs": [],
     "prompt_number": 15
    },
    {
     "cell_type": "code",
     "collapsed": false,
     "input": [
      "chart = chart[chart.type != \"TOTAL Movers\"]"
     ],
     "language": "python",
     "metadata": {},
     "outputs": [],
     "prompt_number": 16
    },
    {
     "cell_type": "code",
     "collapsed": true,
     "input": [
      "gchart = chart.groupby('date')"
     ],
     "language": "python",
     "metadata": {},
     "outputs": [],
     "prompt_number": 18
    },
    {
     "cell_type": "code",
     "collapsed": true,
     "input": [
      "rows = []\n",
      "for name, group in gchart:\n",
      "    tdict = {\"c\":[{\"v\": name}]}\n",
      "    for idx, row in group.iterrows():\n",
      "        tdict[\"c\"].append({\"v\":row['mtd']})\n",
      "    rows.append(tdict)\n",
      "    "
     ],
     "language": "python",
     "metadata": {},
     "outputs": [],
     "prompt_number": 19
    },
    {
     "cell_type": "code",
     "collapsed": true,
     "input": [
      "cols = [{\"id\": \"date\", \"label\":\"Date\", \"type\":\"string\"}]\n",
      "for row in gchart.get_group('2012_02')['type']:\n",
      "    cols.append({\"id\":row, \"label\":row, \"type\":\"number\"})"
     ],
     "language": "python",
     "metadata": {},
     "outputs": [],
     "prompt_number": 20
    },
    {
     "cell_type": "code",
     "collapsed": true,
     "input": [
      "chart = {\n",
      "  \"type\": \"AreaChart\",\n",
      "  \"cssStyle\": \"height:900px; width:1600px;\",\n",
      "  \"data\": { \"cols\": [], \"rows\":[]},\n",
      "  \"options\": {\n",
      "    \"title\": \"Sales per month\",\n",
      "    \"isStacked\": \"true\",\n",
      "    \"fill\": 20,\n",
      "    \"displayExactValues\": True,\n",
      "    \"vAxis\": {\n",
      "      \"title\": \"Sales unit\",\n",
      "      \"gridlines\": {\"count\": 6}\n",
      "    },\n",
      "    \"hAxis\": {\"title\": \"Date\"}\n",
      "    },\n",
      "  \"formatters\": {},\n",
      "  \"displayed\": True\n",
      "}"
     ],
     "language": "python",
     "metadata": {},
     "outputs": [],
     "prompt_number": 30
    },
    {
     "cell_type": "code",
     "collapsed": true,
     "input": [
      "chart['data']['cols'] = cols\n",
      "chart['data']['rows'] = rows"
     ],
     "language": "python",
     "metadata": {},
     "outputs": [],
     "prompt_number": 31
    },
    {
     "cell_type": "code",
     "collapsed": true,
     "input": [
      "import json"
     ],
     "language": "python",
     "metadata": {},
     "outputs": [],
     "prompt_number": 32
    },
    {
     "cell_type": "code",
     "collapsed": true,
     "input": [
      "json.dump(chart,open('/var/www/visionzero/appFolder/static/summons.json','wb'))"
     ],
     "language": "python",
     "metadata": {},
     "outputs": [],
     "prompt_number": 33
    },
    {
     "cell_type": "code",
     "collapsed": true,
     "input": [],
     "language": "python",
     "metadata": {},
     "outputs": []
    }
   ],
   "metadata": {}
  }
 ]
}